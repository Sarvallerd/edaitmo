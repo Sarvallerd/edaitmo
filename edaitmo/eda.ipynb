{
 "cells": [
  {
   "cell_type": "code",
   "execution_count": null,
   "id": "7af86b11",
   "metadata": {},
   "outputs": [],
   "source": [
    "import pandas as pd\n",
    "import matplotlib.pyplot as plt\n",
    "import seaborn as sns\n",
    "\n",
    "# Для ускорения apply функций данные немаленькие\n",
    "from pandarallel import pandarallel\n",
    "\n",
    "pandarallel.initialize()\n",
    "\n",
    "sns.set()\n",
    "\n",
    "%config InlineBackend.figure_format = 'svg'\n",
    "\n",
    "plt.rcParams[\"figure.figsize\"] = (8, 5)\n",
    "plt.rcParams[\"image.cmap\"] = \"viridis\""
   ]
  },
  {
   "cell_type": "markdown",
   "id": "e70feea7",
   "metadata": {},
   "source": [
    "# Загрузка данных"
   ]
  },
  {
   "cell_type": "code",
   "execution_count": null,
   "id": "f25b9741",
   "metadata": {},
   "outputs": [],
   "source": [
    "data = pd.read_parquet(\"../data/transaction_fraud_data.parquet\")\n",
    "exchange = pd.read_parquet(\"../data/historical_currency_exchange.parquet\")"
   ]
  },
  {
   "cell_type": "code",
   "execution_count": null,
   "id": "f1eece6d",
   "metadata": {},
   "outputs": [],
   "source": [
    "data = pd.concat((data, pd.json_normalize(data[\"last_hour_activity\"])), axis=1).drop(\n",
    "    columns=\"last_hour_activity\"\n",
    ")"
   ]
  },
  {
   "cell_type": "code",
   "execution_count": null,
   "id": "84fb0be7",
   "metadata": {},
   "outputs": [],
   "source": [
    "exchange[\"date\"] = pd.to_datetime(exchange[\"date\"]).dt.date\n",
    "data[\"date\"] = data[\"timestamp\"].dt.date"
   ]
  },
  {
   "cell_type": "markdown",
   "id": "c8c0a38e",
   "metadata": {},
   "source": [
    "# EDA"
   ]
  },
  {
   "cell_type": "code",
   "execution_count": null,
   "id": "249aa49a",
   "metadata": {},
   "outputs": [],
   "source": [
    "data.head()"
   ]
  },
  {
   "cell_type": "code",
   "execution_count": null,
   "id": "c4902ea1",
   "metadata": {},
   "outputs": [],
   "source": [
    "exchange.head()"
   ]
  },
  {
   "cell_type": "code",
   "execution_count": null,
   "id": "4ea302e5",
   "metadata": {},
   "outputs": [],
   "source": [
    "data.info()"
   ]
  },
  {
   "cell_type": "code",
   "execution_count": null,
   "id": "af6f234e",
   "metadata": {},
   "outputs": [],
   "source": [
    "exchange.info()"
   ]
  },
  {
   "cell_type": "code",
   "execution_count": null,
   "id": "31814934",
   "metadata": {},
   "outputs": [],
   "source": [
    "data = data.merge(exchange, how=\"left\", on=\"date\")"
   ]
  },
  {
   "cell_type": "code",
   "execution_count": null,
   "id": "df4b6102",
   "metadata": {},
   "outputs": [],
   "source": [
    "data.isna().sum()"
   ]
  },
  {
   "cell_type": "code",
   "execution_count": null,
   "id": "a74184ac",
   "metadata": {},
   "outputs": [],
   "source": [
    "data[\"is_fraud\"].value_counts(normalize=True)"
   ]
  },
  {
   "cell_type": "markdown",
   "id": "010dde0f",
   "metadata": {},
   "source": [
    "Сразу конвертируем amount в USD"
   ]
  },
  {
   "cell_type": "code",
   "execution_count": null,
   "id": "4ebc4cdd",
   "metadata": {},
   "outputs": [],
   "source": [
    "data[\"usd_amount\"] = data.parallel_apply(\n",
    "    lambda x: x[\"amount\"] / x[x[\"currency\"]], axis=1\n",
    ")\n",
    "data[\"usd_total_amount\"] = data.parallel_apply(\n",
    "    lambda x: x[\"total_amount\"] / x[x[\"currency\"]], axis=1\n",
    ")\n",
    "data[\"usd_max_single_amount\"] = data.parallel_apply(\n",
    "    lambda x: x[\"max_single_amount\"] / x[x[\"currency\"]], axis=1\n",
    ")"
   ]
  },
  {
   "cell_type": "markdown",
   "id": "4fb85885",
   "metadata": {},
   "source": [
    "Посмотрим распределение usd_amount для is_fraud"
   ]
  },
  {
   "cell_type": "code",
   "execution_count": null,
   "id": "3539d8b6",
   "metadata": {},
   "outputs": [],
   "source": [
    "sns.boxplot(data=data, y=\"usd_amount\", x=\"is_fraud\");"
   ]
  },
  {
   "cell_type": "code",
   "execution_count": null,
   "id": "43a0069e",
   "metadata": {},
   "outputs": [],
   "source": []
  }
 ],
 "metadata": {
  "kernelspec": {
   "display_name": ".venv",
   "language": "python",
   "name": "python3"
  },
  "language_info": {
   "codemirror_mode": {
    "name": "ipython",
    "version": 3
   },
   "file_extension": ".py",
   "mimetype": "text/x-python",
   "name": "python",
   "nbconvert_exporter": "python",
   "pygments_lexer": "ipython3",
   "version": "3.12.3"
  }
 },
 "nbformat": 4,
 "nbformat_minor": 5
}
